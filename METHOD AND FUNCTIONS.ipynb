{
 "cells": [
  {
   "cell_type": "markdown",
   "id": "4f0d5574",
   "metadata": {},
   "source": [
    "### How to see the avalable methods and Function details\n",
    "#### After putting a ( . ) to a varriable if we press shift tab we can see alll the available functions. After choosing one if we press Shift + TAB we can see the details of that function. "
   ]
  },
  {
   "cell_type": "code",
   "execution_count": 2,
   "id": "7cd934e0",
   "metadata": {},
   "outputs": [],
   "source": [
    "mylist = [2,3,4,5,6]"
   ]
  },
  {
   "cell_type": "markdown",
   "id": "691660c8",
   "metadata": {},
   "source": [
    "## Functions\n",
    "### def keyword\n",
    "#### We use return Keyword to to send back the result of the function instead just printing it out. return allows us to assign the output of a function to a new variable"
   ]
  },
  {
   "cell_type": "code",
   "execution_count": 65,
   "id": "3c6e3542",
   "metadata": {},
   "outputs": [],
   "source": [
    "def total():\n",
    "    print('say hello')"
   ]
  },
  {
   "cell_type": "code",
   "execution_count": 66,
   "id": "f74aa742",
   "metadata": {},
   "outputs": [
    {
     "name": "stdout",
     "output_type": "stream",
     "text": [
      "say hello\n"
     ]
    }
   ],
   "source": [
    "total()"
   ]
  },
  {
   "cell_type": "code",
   "execution_count": 67,
   "id": "0d3ee7c5",
   "metadata": {},
   "outputs": [
    {
     "name": "stdout",
     "output_type": "stream",
     "text": [
      "say hello\n"
     ]
    }
   ],
   "source": [
    "# we can not assign this fucntion to a variable\n",
    "tt = total()"
   ]
  },
  {
   "cell_type": "code",
   "execution_count": 68,
   "id": "0d318169",
   "metadata": {},
   "outputs": [],
   "source": [
    "# now lets try with return keyword\n",
    "# with return keyword we can call the function and assign it. \n",
    "def tottal(name):\n",
    "    return f'hello {name}'"
   ]
  },
  {
   "cell_type": "code",
   "execution_count": 69,
   "id": "0c5ff02d",
   "metadata": {},
   "outputs": [],
   "source": [
    "tt = tottal('tamim')"
   ]
  },
  {
   "cell_type": "code",
   "execution_count": 70,
   "id": "ac208a4b",
   "metadata": {},
   "outputs": [
    {
     "data": {
      "text/plain": [
       "'hello tamim'"
      ]
     },
     "execution_count": 70,
     "metadata": {},
     "output_type": "execute_result"
    }
   ],
   "source": [
    "tt"
   ]
  },
  {
   "cell_type": "code",
   "execution_count": 73,
   "id": "c23cefc2",
   "metadata": {},
   "outputs": [
    {
     "data": {
      "text/plain": [
       "'hello Tamim'"
      ]
     },
     "execution_count": 73,
     "metadata": {},
     "output_type": "execute_result"
    }
   ],
   "source": [
    "tottal('Tamim')"
   ]
  },
  {
   "cell_type": "code",
   "execution_count": 14,
   "id": "da1c2ba3",
   "metadata": {},
   "outputs": [],
   "source": [
    "# hopefull it makes sense"
   ]
  },
  {
   "cell_type": "markdown",
   "id": "152ce954",
   "metadata": {},
   "source": [
    "## Important concept about the function, for loop, rreturn and print"
   ]
  },
  {
   "cell_type": "code",
   "execution_count": 58,
   "id": "55346933",
   "metadata": {},
   "outputs": [],
   "source": [
    "# lets look at the for loop and if statement"
   ]
  },
  {
   "cell_type": "code",
   "execution_count": 82,
   "id": "a3fbec39",
   "metadata": {},
   "outputs": [
    {
     "name": "stdout",
     "output_type": "stream",
     "text": [
      "2\n",
      "4\n"
     ]
    }
   ],
   "source": [
    "# Here x will pass each of the number into the if statement. Here pass means do not do anything.\n",
    "for x in [1,2,3,4]:\n",
    "    if x%2==0:\n",
    "        print(x)\n",
    "    else:\n",
    "        pass"
   ]
  },
  {
   "cell_type": "code",
   "execution_count": 85,
   "id": "61533286",
   "metadata": {},
   "outputs": [
    {
     "name": "stdout",
     "output_type": "stream",
     "text": [
      "True\n",
      "False\n"
     ]
    }
   ],
   "source": [
    "def nn():\n",
    "    print(True)\n",
    "    print(False)\n",
    "\n",
    "nn()"
   ]
  },
  {
   "cell_type": "code",
   "execution_count": 61,
   "id": "f8cea8e3",
   "metadata": {},
   "outputs": [],
   "source": [
    "# Now lets see a important characteristic of a fucntion when we use return"
   ]
  },
  {
   "cell_type": "code",
   "execution_count": 62,
   "id": "ec5460ad",
   "metadata": {},
   "outputs": [],
   "source": [
    "def new():\n",
    "    return True\n",
    "    return False"
   ]
  },
  {
   "cell_type": "code",
   "execution_count": 86,
   "id": "77ef8491",
   "metadata": {},
   "outputs": [
    {
     "data": {
      "text/plain": [
       "True"
      ]
     },
     "execution_count": 86,
     "metadata": {},
     "output_type": "execute_result"
    }
   ],
   "source": [
    "new()\n",
    "# we can see here it is only giving us the first return. if it was two print it would give us all the print like the previous example."
   ]
  },
  {
   "cell_type": "code",
   "execution_count": 22,
   "id": "3d75bcec",
   "metadata": {},
   "outputs": [],
   "source": [
    "# A function that return true if any number is EVEN inside a list."
   ]
  },
  {
   "cell_type": "code",
   "execution_count": 90,
   "id": "e34388f3",
   "metadata": {},
   "outputs": [],
   "source": [
    "# Lets see whats happening here\n",
    "def check_even(num_list):\n",
    "    for x in num_list:\n",
    "        if x%2 == 0:\n",
    "            print(True)  \n",
    "        else:\n",
    "            print(False)"
   ]
  },
  {
   "cell_type": "code",
   "execution_count": 91,
   "id": "6aaae82d",
   "metadata": {},
   "outputs": [
    {
     "name": "stdout",
     "output_type": "stream",
     "text": [
      "False\n",
      "True\n",
      "False\n"
     ]
    }
   ],
   "source": [
    "check_even([1,2,3])"
   ]
  },
  {
   "cell_type": "code",
   "execution_count": null,
   "id": "8da517e1",
   "metadata": {},
   "outputs": [],
   "source": []
  },
  {
   "cell_type": "code",
   "execution_count": 92,
   "id": "0eea8ae5",
   "metadata": {},
   "outputs": [],
   "source": [
    "# Lets see whats happening here\n",
    "def check_even_list(num_list):\n",
    "    for x in num_list:\n",
    "        if x%2 == 0:\n",
    "            return True  \n",
    "        else:\n",
    "            return False"
   ]
  },
  {
   "cell_type": "code",
   "execution_count": 93,
   "id": "d9c7327e",
   "metadata": {},
   "outputs": [
    {
     "data": {
      "text/plain": [
       "False"
      ]
     },
     "execution_count": 93,
     "metadata": {},
     "output_type": "execute_result"
    }
   ],
   "source": [
    "check_even_list([1,2,3])\n",
    "# here we are getting False even though we have a even in the list. so what is the problem?"
   ]
  },
  {
   "cell_type": "code",
   "execution_count": 94,
   "id": "ea8e3463",
   "metadata": {},
   "outputs": [],
   "source": [
    "# if we notice and check with different numbers that it can only return us only the first number in the list. \n",
    "# why? because since for loop will return us the output False, True, False. Since it returns it will only return the first one which is False."
   ]
  },
  {
   "cell_type": "code",
   "execution_count": 95,
   "id": "7f42c040",
   "metadata": {},
   "outputs": [],
   "source": [
    "# now we are going to make a function which says if there is any even number in the list"
   ]
  },
  {
   "cell_type": "code",
   "execution_count": 105,
   "id": "5e3d75d0",
   "metadata": {},
   "outputs": [],
   "source": [
    "def if_even_num(listt):\n",
    "    for x in listt:\n",
    "        if x%2 == 0:\n",
    "            return True  \n",
    "        else:\n",
    "            pass\n",
    "    # here in the first portion if a value is even it returns True otherwise returns nothing since we used PASS!!\n",
    "    return False\n",
    "    # if we get no value previously it will use false. "
   ]
  },
  {
   "cell_type": "code",
   "execution_count": 106,
   "id": "d222470f",
   "metadata": {},
   "outputs": [
    {
     "data": {
      "text/plain": [
       "True"
      ]
     },
     "execution_count": 106,
     "metadata": {},
     "output_type": "execute_result"
    }
   ],
   "source": [
    "if_even_num([1,2,3,4])"
   ]
  },
  {
   "cell_type": "code",
   "execution_count": 107,
   "id": "373d328c",
   "metadata": {},
   "outputs": [
    {
     "data": {
      "text/plain": [
       "False"
      ]
     },
     "execution_count": 107,
     "metadata": {},
     "output_type": "execute_result"
    }
   ],
   "source": [
    "if_even_num([3,3,5,7])"
   ]
  },
  {
   "cell_type": "code",
   "execution_count": 113,
   "id": "4bf61c26",
   "metadata": {},
   "outputs": [],
   "source": [
    "# Now lets make a fuction that finds the best employee as per the working hours\n",
    "work_hours = [('tamim', 10000), ('Tanha', 60000),('faouzi', 500)]\n",
    "def winner():\n",
    "    name = ''\n",
    "    hour = 0\n",
    "    for x,y in work_hours:\n",
    "        if y>hour:\n",
    "            hour = y\n",
    "            name = x\n",
    "        else:\n",
    "            pass\n",
    "    \n",
    "    return(name,hour)"
   ]
  },
  {
   "cell_type": "code",
   "execution_count": 118,
   "id": "ea419a2b",
   "metadata": {},
   "outputs": [
    {
     "data": {
      "text/plain": [
       "('Tanha', 60000)"
      ]
     },
     "execution_count": 118,
     "metadata": {},
     "output_type": "execute_result"
    }
   ],
   "source": [
    "winner()"
   ]
  },
  {
   "cell_type": "code",
   "execution_count": 119,
   "id": "1916f5fd",
   "metadata": {},
   "outputs": [],
   "source": [
    "x,y = winner()"
   ]
  },
  {
   "cell_type": "code",
   "execution_count": 120,
   "id": "7f0e168a",
   "metadata": {},
   "outputs": [
    {
     "data": {
      "text/plain": [
       "'Tanha'"
      ]
     },
     "execution_count": 120,
     "metadata": {},
     "output_type": "execute_result"
    }
   ],
   "source": [
    "x"
   ]
  },
  {
   "cell_type": "code",
   "execution_count": 121,
   "id": "19af9f88",
   "metadata": {},
   "outputs": [
    {
     "data": {
      "text/plain": [
       "60000"
      ]
     },
     "execution_count": 121,
     "metadata": {},
     "output_type": "execute_result"
    }
   ],
   "source": [
    "y"
   ]
  },
  {
   "cell_type": "markdown",
   "id": "6cb99c1f",
   "metadata": {},
   "source": [
    "### Shuffle guess game"
   ]
  },
  {
   "cell_type": "code",
   "execution_count": 169,
   "id": "21425d03",
   "metadata": {},
   "outputs": [],
   "source": [
    "from random import shuffle\n",
    "mylist = [' ', '0', ' ']"
   ]
  },
  {
   "cell_type": "code",
   "execution_count": 170,
   "id": "ae71dcf0",
   "metadata": {},
   "outputs": [],
   "source": [
    "def game():\n",
    "    guess = int(input('put your guess'))\n",
    "    shuffle(mylist)\n",
    "    for x in mylist:\n",
    "        if mylist[guess-1] == '0':\n",
    "            return 'you won'\n",
    "        else:\n",
    "            pass\n",
    "    \n",
    "    return f'you lose!! and the ball is here {mylist}' \n"
   ]
  },
  {
   "cell_type": "code",
   "execution_count": 179,
   "id": "220b6b08",
   "metadata": {},
   "outputs": [
    {
     "name": "stdout",
     "output_type": "stream",
     "text": [
      "put your guess3\n"
     ]
    },
    {
     "data": {
      "text/plain": [
       "'you won'"
      ]
     },
     "execution_count": 179,
     "metadata": {},
     "output_type": "execute_result"
    }
   ],
   "source": [
    "game()"
   ]
  },
  {
   "cell_type": "code",
   "execution_count": 166,
   "id": "570d2b51",
   "metadata": {},
   "outputs": [
    {
     "data": {
      "text/plain": [
       "list[2]"
      ]
     },
     "execution_count": 166,
     "metadata": {},
     "output_type": "execute_result"
    }
   ],
   "source": [
    "list[2]"
   ]
  },
  {
   "cell_type": "markdown",
   "id": "fe39f315",
   "metadata": {},
   "source": [
    "## args and kwargs "
   ]
  },
  {
   "cell_type": "markdown",
   "id": "70c6ebc7",
   "metadata": {},
   "source": [
    "#### We use args(*) to put the unlimited number of arguments in a function"
   ]
  },
  {
   "cell_type": "code",
   "execution_count": 2,
   "id": "b1718321",
   "metadata": {},
   "outputs": [
    {
     "name": "stdout",
     "output_type": "stream",
     "text": [
      "(2, 3, 4, 5, 6)\n"
     ]
    }
   ],
   "source": [
    "def myfunc(*args):\n",
    "    print(args)\n",
    "\n",
    "myfunc(2,3,4,5,6)"
   ]
  },
  {
   "cell_type": "code",
   "execution_count": 3,
   "id": "afffec78",
   "metadata": {},
   "outputs": [],
   "source": [
    "# so whatever we are going to add is gonna be put inside a tuple. "
   ]
  },
  {
   "cell_type": "code",
   "execution_count": 6,
   "id": "12599304",
   "metadata": {},
   "outputs": [],
   "source": [
    "# Now lets see the application inside a function\n",
    "def func(*args):\n",
    "    return sum(args)*10"
   ]
  },
  {
   "cell_type": "code",
   "execution_count": 7,
   "id": "2862c2d2",
   "metadata": {},
   "outputs": [
    {
     "data": {
      "text/plain": [
       "150"
      ]
     },
     "execution_count": 7,
     "metadata": {},
     "output_type": "execute_result"
    }
   ],
   "source": [
    "func(1,2,3,4,5)"
   ]
  },
  {
   "cell_type": "markdown",
   "id": "5ce992e3",
   "metadata": {},
   "source": [
    "#### kwargs(**) argument takes anything anything and put it in a dictionary as keyvalue pairs. "
   ]
  },
  {
   "cell_type": "code",
   "execution_count": 12,
   "id": "54f37ffe",
   "metadata": {},
   "outputs": [],
   "source": [
    "def myfunc(**kwargs):\n",
    "    print(kwargs)"
   ]
  },
  {
   "cell_type": "code",
   "execution_count": 16,
   "id": "5d06548f",
   "metadata": {},
   "outputs": [
    {
     "name": "stdout",
     "output_type": "stream",
     "text": [
      "{'name': 'tamim', 'age': 22}\n"
     ]
    }
   ],
   "source": [
    "myfunc(name ='tamim', age = 22)"
   ]
  },
  {
   "cell_type": "code",
   "execution_count": 17,
   "id": "9113645c",
   "metadata": {},
   "outputs": [],
   "source": [
    "# we can see that it returs a dictionary. "
   ]
  },
  {
   "cell_type": "code",
   "execution_count": 41,
   "id": "62865eca",
   "metadata": {},
   "outputs": [],
   "source": [
    "# therefore we can use this in the following way\n",
    "def func2(**kwargs):\n",
    "    if 'fruit' in kwargs:\n",
    "        return 'I could find an {} here'.format(kwargs['fruit'])\n",
    "    else:\n",
    "        return 'I cant find any fruits in there'"
   ]
  },
  {
   "cell_type": "code",
   "execution_count": 43,
   "id": "e4c1d729",
   "metadata": {},
   "outputs": [
    {
     "data": {
      "text/plain": [
       "'I cant find any fruits in there'"
      ]
     },
     "execution_count": 43,
     "metadata": {},
     "output_type": "execute_result"
    }
   ],
   "source": [
    "func2(animals ='apple')"
   ]
  },
  {
   "cell_type": "code",
   "execution_count": 44,
   "id": "b2715d30",
   "metadata": {},
   "outputs": [],
   "source": [
    "## after * and ** we cna write anything but we have to be consitent about what we are writing"
   ]
  },
  {
   "cell_type": "code",
   "execution_count": 45,
   "id": "145667df",
   "metadata": {},
   "outputs": [],
   "source": [
    "## we can combine *args and **kwargs together. "
   ]
  },
  {
   "cell_type": "code",
   "execution_count": 46,
   "id": "4af2ea7c",
   "metadata": {},
   "outputs": [],
   "source": [
    "def new(*arg, **kwarg):\n",
    "    return 'I want {} {}'.format(arg[0],kwarg['food'])"
   ]
  },
  {
   "cell_type": "code",
   "execution_count": 48,
   "id": "57e521a6",
   "metadata": {},
   "outputs": [
    {
     "data": {
      "text/plain": [
       "'I want 10 eggs'"
      ]
     },
     "execution_count": 48,
     "metadata": {},
     "output_type": "execute_result"
    }
   ],
   "source": [
    "new(10,20,30,40,food = 'eggs')"
   ]
  },
  {
   "cell_type": "markdown",
   "id": "e8d5f6a4",
   "metadata": {},
   "source": [
    "## LAMBDA, MAP AND FILTER"
   ]
  },
  {
   "cell_type": "markdown",
   "id": "f726519a",
   "metadata": {},
   "source": [
    "#### --> Map function asically take a function as a input and then all the iterables to apply that function. we can check using shift +TAB after typing map. "
   ]
  },
  {
   "cell_type": "code",
   "execution_count": 5,
   "id": "884f364e",
   "metadata": {},
   "outputs": [],
   "source": [
    "def func(num):\n",
    "    return num**2"
   ]
  },
  {
   "cell_type": "code",
   "execution_count": 26,
   "id": "017026fd",
   "metadata": {},
   "outputs": [
    {
     "data": {
      "text/plain": [
       "<map at 0x2178ffdcfd0>"
      ]
     },
     "execution_count": 26,
     "metadata": {},
     "output_type": "execute_result"
    }
   ],
   "source": [
    "# we have to remember that we have to pass an iterable after the function in the MAP fucntion. Below, I put a list but any iterable can be used.\n",
    "x = map(func, [2,3,4,5,6])\n",
    "x"
   ]
  },
  {
   "cell_type": "code",
   "execution_count": 27,
   "id": "290f2ff4",
   "metadata": {},
   "outputs": [
    {
     "data": {
      "text/plain": [
       "[4, 9, 16, 25, 36]"
      ]
     },
     "execution_count": 27,
     "metadata": {},
     "output_type": "execute_result"
    }
   ],
   "source": [
    "# Here map returns an genrator and it is iterable. so we can convert it to a list or we can loop thorugh this iterator. \n",
    "list(x)"
   ]
  },
  {
   "cell_type": "code",
   "execution_count": 30,
   "id": "c4cbe6f6",
   "metadata": {},
   "outputs": [],
   "source": [
    "# However we haev to remebr that to use it in a loop we have the MAP instead placing it in a variable"
   ]
  },
  {
   "cell_type": "code",
   "execution_count": 36,
   "id": "77d503e6",
   "metadata": {},
   "outputs": [
    {
     "name": "stdout",
     "output_type": "stream",
     "text": [
      "4\n",
      "9\n",
      "16\n",
      "25\n",
      "36\n"
     ]
    }
   ],
   "source": [
    "for d in map(func, [2,3,4,5,6]):\n",
    "    print(d)"
   ]
  },
  {
   "cell_type": "markdown",
   "id": "2ce60a8a",
   "metadata": {},
   "source": [
    "#### Filter function is also like a MAP function but the function we put in the FILTER should return Boolean. and based on the fucntion it is is going to filter the next given iterables"
   ]
  },
  {
   "cell_type": "code",
   "execution_count": 42,
   "id": "6157b647",
   "metadata": {},
   "outputs": [],
   "source": [
    "# first lets meake a function that returns boolean\n",
    "def fun(num):\n",
    "    return num%2 == 0"
   ]
  },
  {
   "cell_type": "code",
   "execution_count": 43,
   "id": "dd4058b7",
   "metadata": {},
   "outputs": [],
   "source": [
    "r = [2,3,4,5,6,7,8]"
   ]
  },
  {
   "cell_type": "code",
   "execution_count": 44,
   "id": "20dc92d3",
   "metadata": {},
   "outputs": [
    {
     "data": {
      "text/plain": [
       "<filter at 0x2179003b310>"
      ]
     },
     "execution_count": 44,
     "metadata": {},
     "output_type": "execute_result"
    }
   ],
   "source": [
    "y = filter(fun, r)\n",
    "y"
   ]
  },
  {
   "cell_type": "code",
   "execution_count": 45,
   "id": "79a122ec",
   "metadata": {},
   "outputs": [
    {
     "data": {
      "text/plain": [
       "[2, 4, 6, 8]"
      ]
     },
     "execution_count": 45,
     "metadata": {},
     "output_type": "execute_result"
    }
   ],
   "source": [
    "list(y)"
   ]
  },
  {
   "cell_type": "markdown",
   "id": "6fadaec3",
   "metadata": {},
   "source": [
    "### LAMBDA Expression:\n"
   ]
  },
  {
   "cell_type": "markdown",
   "id": "ea2f6299",
   "metadata": {},
   "source": [
    "### the way we write this function is    lambda x : x**2    or lambda (argument) : the thing we want to dod with the argument. "
   ]
  },
  {
   "cell_type": "code",
   "execution_count": 49,
   "id": "0538b8e2",
   "metadata": {},
   "outputs": [],
   "source": [
    "# we can assign  lambda in a variable and we can use that varibale as a function. "
   ]
  },
  {
   "cell_type": "code",
   "execution_count": 50,
   "id": "583b5ab6",
   "metadata": {},
   "outputs": [],
   "source": [
    "ten_add = lambda x : x+10"
   ]
  },
  {
   "cell_type": "code",
   "execution_count": 51,
   "id": "dbffec2a",
   "metadata": {},
   "outputs": [
    {
     "data": {
      "text/plain": [
       "20"
      ]
     },
     "execution_count": 51,
     "metadata": {},
     "output_type": "execute_result"
    }
   ],
   "source": [
    "ten_add(10)"
   ]
  },
  {
   "cell_type": "markdown",
   "id": "2c461f18",
   "metadata": {},
   "source": [
    "### How we can combine lambda with map and filter?"
   ]
  },
  {
   "cell_type": "code",
   "execution_count": 53,
   "id": "a4f2e6e8",
   "metadata": {},
   "outputs": [
    {
     "data": {
      "text/plain": [
       "[4, 9, 16, 25, 36]"
      ]
     },
     "execution_count": 53,
     "metadata": {},
     "output_type": "execute_result"
    }
   ],
   "source": [
    "list(map(lambda x:x**2, [2,3,4,5,6]))"
   ]
  },
  {
   "cell_type": "code",
   "execution_count": 54,
   "id": "43186b25",
   "metadata": {},
   "outputs": [
    {
     "data": {
      "text/plain": [
       "[2, 4, 6, 8]"
      ]
     },
     "execution_count": 54,
     "metadata": {},
     "output_type": "execute_result"
    }
   ],
   "source": [
    "list(filter(lambda x : x%2==0, [2,3,4,5,6,7,8]))"
   ]
  },
  {
   "cell_type": "markdown",
   "id": "278910cd",
   "metadata": {},
   "source": [
    "## NESTED FUNCTIONS AND SCOPES OF THE VARIABLES"
   ]
  },
  {
   "cell_type": "markdown",
   "id": "af451d25",
   "metadata": {},
   "source": [
    "## usage of GLOBAL keyword\n",
    "#### All the variable assignment has two scopes. If we change any global variable inside the function we are changing it only inside the functin not globally.  However we can do that iusing global keyword. "
   ]
  },
  {
   "cell_type": "code",
   "execution_count": 63,
   "id": "47f45468",
   "metadata": {},
   "outputs": [],
   "source": [
    "x = 50 # this is the GLOBAL varibale and last to consider.\n",
    "def change():\n",
    "    x = 100 # this is the second variable to consider\n",
    "    def change1():\n",
    "        x = 200 # this is the first varibale that is gonna be considered\n",
    "        print(x)\n",
    "    change1()"
   ]
  },
  {
   "cell_type": "code",
   "execution_count": 64,
   "id": "aa9f1ede",
   "metadata": {},
   "outputs": [
    {
     "name": "stdout",
     "output_type": "stream",
     "text": [
      "200\n"
     ]
    }
   ],
   "source": [
    "change()"
   ]
  },
  {
   "cell_type": "code",
   "execution_count": 65,
   "id": "6878b997",
   "metadata": {},
   "outputs": [],
   "source": [
    "# understanding the Scopes\n",
    "x = 50\n",
    "def paris():\n",
    "    x = 100\n",
    "    print(x)"
   ]
  },
  {
   "cell_type": "code",
   "execution_count": 66,
   "id": "d1640f29",
   "metadata": {},
   "outputs": [
    {
     "name": "stdout",
     "output_type": "stream",
     "text": [
      "100\n"
     ]
    }
   ],
   "source": [
    "paris()"
   ]
  },
  {
   "cell_type": "code",
   "execution_count": 67,
   "id": "2d22356c",
   "metadata": {},
   "outputs": [
    {
     "data": {
      "text/plain": [
       "50"
      ]
     },
     "execution_count": 67,
     "metadata": {},
     "output_type": "execute_result"
    }
   ],
   "source": [
    "# even thogh we reassigned the variable inside the function, but we could notchange it globally \n",
    "x"
   ]
  },
  {
   "cell_type": "code",
   "execution_count": 70,
   "id": "d2f6df86",
   "metadata": {},
   "outputs": [],
   "source": [
    "# However, we can change the variable gloablly using the keyword global\n",
    "y = 40\n",
    "def cergy():\n",
    "    global y\n",
    "    y = 250\n",
    "    print(y)"
   ]
  },
  {
   "cell_type": "code",
   "execution_count": 72,
   "id": "662f5738",
   "metadata": {},
   "outputs": [
    {
     "name": "stdout",
     "output_type": "stream",
     "text": [
      "250\n"
     ]
    }
   ],
   "source": [
    "cergy()"
   ]
  },
  {
   "cell_type": "code",
   "execution_count": 74,
   "id": "817d3adc",
   "metadata": {},
   "outputs": [
    {
     "data": {
      "text/plain": [
       "250"
      ]
     },
     "execution_count": 74,
     "metadata": {},
     "output_type": "execute_result"
    }
   ],
   "source": [
    "# after running the function it converted the global function from 40 to 250\n",
    "y"
   ]
  },
  {
   "cell_type": "code",
   "execution_count": null,
   "id": "6edb6862",
   "metadata": {},
   "outputs": [],
   "source": []
  }
 ],
 "metadata": {
  "kernelspec": {
   "display_name": "Python 3 (ipykernel)",
   "language": "python",
   "name": "python3"
  },
  "language_info": {
   "codemirror_mode": {
    "name": "ipython",
    "version": 3
   },
   "file_extension": ".py",
   "mimetype": "text/x-python",
   "name": "python",
   "nbconvert_exporter": "python",
   "pygments_lexer": "ipython3",
   "version": "3.9.5"
  }
 },
 "nbformat": 4,
 "nbformat_minor": 5
}
