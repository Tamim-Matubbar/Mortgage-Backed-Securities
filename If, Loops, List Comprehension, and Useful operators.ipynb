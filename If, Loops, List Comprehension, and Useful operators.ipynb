{
 "cells": [
  {
   "cell_type": "markdown",
   "id": "0cc3c43d",
   "metadata": {},
   "source": [
    "## IF ELSE STATEMENT"
   ]
  },
  {
   "cell_type": "code",
   "execution_count": 3,
   "id": "53a04bab",
   "metadata": {},
   "outputs": [],
   "source": [
    "# Remeber to use \":\""
   ]
  },
  {
   "cell_type": "code",
   "execution_count": 7,
   "id": "0801bbdc",
   "metadata": {},
   "outputs": [
    {
     "name": "stdout",
     "output_type": "stream",
     "text": [
      "enter your name: matubbar\n",
      "you are wrong!\n"
     ]
    }
   ],
   "source": [
    "name = input('enter your name: ')\n",
    "if name == \"Tamim\":\n",
    "    print('you are right!')\n",
    "elif name == 'Julian':\n",
    "    print('yo bro')\n",
    "else:\n",
    "    print('you are wrong!')"
   ]
  },
  {
   "cell_type": "code",
   "execution_count": 9,
   "id": "5cf8794c",
   "metadata": {},
   "outputs": [
    {
     "name": "stdout",
     "output_type": "stream",
     "text": [
      "Enter any number to check if its odd or even56577657849\n",
      "56577657849 is an odd number.\n"
     ]
    }
   ],
   "source": [
    "number = int(input('Enter any number to check if its odd or even'))\n",
    "if number % 2 == 0:\n",
    "    print(f'{number} is an even number.')\n",
    "else:\n",
    "    print(f'{number} is an odd number.')"
   ]
  },
  {
   "cell_type": "markdown",
   "id": "feea6e75",
   "metadata": {},
   "source": [
    "##  FOR LOOP"
   ]
  },
  {
   "cell_type": "code",
   "execution_count": 10,
   "id": "00d6212a",
   "metadata": {},
   "outputs": [
    {
     "name": "stdout",
     "output_type": "stream",
     "text": [
      "2\n",
      "3\n",
      "4\n",
      "5\n",
      "6\n"
     ]
    }
   ],
   "source": [
    "my_iterable = [2,3,4,5,6]\n",
    "for x in my_iterable:\n",
    "    print(x)"
   ]
  },
  {
   "cell_type": "markdown",
   "id": "76db4a2d",
   "metadata": {},
   "source": [
    "### Finding the sum of all the numbers in any list"
   ]
  },
  {
   "cell_type": "code",
   "execution_count": 11,
   "id": "01279782",
   "metadata": {},
   "outputs": [
    {
     "data": {
      "text/plain": [
       "[2, 3, 4, 5, 6]"
      ]
     },
     "execution_count": 11,
     "metadata": {},
     "output_type": "execute_result"
    }
   ],
   "source": [
    "my_iterable"
   ]
  },
  {
   "cell_type": "code",
   "execution_count": 13,
   "id": "057aceb8",
   "metadata": {},
   "outputs": [
    {
     "data": {
      "text/plain": [
       "20"
      ]
     },
     "execution_count": 13,
     "metadata": {},
     "output_type": "execute_result"
    }
   ],
   "source": [
    "total = 0\n",
    "for x in my_iterable:\n",
    "    total = total + x\n",
    "total"
   ]
  },
  {
   "cell_type": "code",
   "execution_count": 14,
   "id": "2ef64ca5",
   "metadata": {},
   "outputs": [],
   "source": [
    "# For Loop for strings"
   ]
  },
  {
   "cell_type": "code",
   "execution_count": 15,
   "id": "327e0f95",
   "metadata": {},
   "outputs": [
    {
     "data": {
      "text/plain": [
       "['H', 'e', 'l', 'l', 'o', ' ', 'W', 'o', 'r', 'l', 'd']"
      ]
     },
     "execution_count": 15,
     "metadata": {},
     "output_type": "execute_result"
    }
   ],
   "source": [
    "my_string = 'Hello World'\n",
    "my_list = []\n",
    "for letter in my_string:\n",
    "    my_list.append(letter)\n",
    "\n",
    "my_list"
   ]
  },
  {
   "cell_type": "code",
   "execution_count": 16,
   "id": "959f79ac",
   "metadata": {},
   "outputs": [],
   "source": [
    "# we can also interate a certain things the same amount  of letters in a string."
   ]
  },
  {
   "cell_type": "code",
   "execution_count": 19,
   "id": "4f7938d9",
   "metadata": {},
   "outputs": [
    {
     "name": "stdout",
     "output_type": "stream",
     "text": [
      "Cool!!!\n",
      "Cool!!!\n",
      "Cool!!!\n",
      "Cool!!!\n",
      "Cool!!!\n"
     ]
    }
   ],
   "source": [
    "name = \"Hello\"\n",
    "for letter in name:\n",
    "    print('Cool!!!')\n",
    "# it should print cool!!! 5 times since Hello has 5 characters."
   ]
  },
  {
   "cell_type": "markdown",
   "id": "d7d2d1e5",
   "metadata": {},
   "source": [
    "### Tuple unpacking"
   ]
  },
  {
   "cell_type": "code",
   "execution_count": 20,
   "id": "207d4dcb",
   "metadata": {},
   "outputs": [],
   "source": [
    "tup = (1,2,3,4,5)"
   ]
  },
  {
   "cell_type": "code",
   "execution_count": 21,
   "id": "4d6cb95b",
   "metadata": {},
   "outputs": [
    {
     "name": "stdout",
     "output_type": "stream",
     "text": [
      "1\n",
      "2\n",
      "3\n",
      "4\n",
      "5\n"
     ]
    }
   ],
   "source": [
    "for x in tup:\n",
    "    print(x)"
   ]
  },
  {
   "cell_type": "code",
   "execution_count": 22,
   "id": "b0a56544",
   "metadata": {},
   "outputs": [
    {
     "name": "stdout",
     "output_type": "stream",
     "text": [
      "(1, 2)\n",
      "(3, 4)\n"
     ]
    }
   ],
   "source": [
    "list = [(1,2),(3,4)]\n",
    "for x in list:\n",
    "    print(x)"
   ]
  },
  {
   "cell_type": "code",
   "execution_count": 23,
   "id": "1c4ebe72",
   "metadata": {},
   "outputs": [],
   "source": [
    "# we can also do the following"
   ]
  },
  {
   "cell_type": "code",
   "execution_count": 24,
   "id": "56c2336e",
   "metadata": {},
   "outputs": [
    {
     "name": "stdout",
     "output_type": "stream",
     "text": [
      "1\n",
      "2\n",
      "3\n",
      "4\n"
     ]
    }
   ],
   "source": [
    "for a,b in list:\n",
    "    print(a)\n",
    "    print(b)"
   ]
  },
  {
   "cell_type": "markdown",
   "id": "6910aa22",
   "metadata": {},
   "source": [
    "### Iterating the dictionary"
   ]
  },
  {
   "cell_type": "code",
   "execution_count": 25,
   "id": "b39b6dfc",
   "metadata": {},
   "outputs": [
    {
     "name": "stdout",
     "output_type": "stream",
     "text": [
      "key1\n",
      "key2\n",
      "key3\n"
     ]
    }
   ],
   "source": [
    "my_dict = {'key1':'value1', 'key2':'value2', 'key3':'value3'}\n",
    "for x in my_dict:\n",
    "    print(x)"
   ]
  },
  {
   "cell_type": "code",
   "execution_count": 27,
   "id": "899d4320",
   "metadata": {},
   "outputs": [
    {
     "name": "stdout",
     "output_type": "stream",
     "text": [
      "value1\n",
      "value2\n",
      "value3\n"
     ]
    }
   ],
   "source": [
    "for x in my_dict.values():\n",
    "    print(x)"
   ]
  },
  {
   "cell_type": "code",
   "execution_count": 29,
   "id": "454a7f73",
   "metadata": {},
   "outputs": [
    {
     "name": "stdout",
     "output_type": "stream",
     "text": [
      "('key1', 'value1')\n",
      "('key2', 'value2')\n",
      "('key3', 'value3')\n"
     ]
    }
   ],
   "source": [
    "for x in my_dict.items():\n",
    "    print(x)"
   ]
  },
  {
   "cell_type": "code",
   "execution_count": 30,
   "id": "2a7c29c0",
   "metadata": {},
   "outputs": [
    {
     "name": "stdout",
     "output_type": "stream",
     "text": [
      "key1\n",
      "value1\n",
      "key2\n",
      "value2\n",
      "key3\n",
      "value3\n"
     ]
    }
   ],
   "source": [
    "for a,b in my_dict.items():\n",
    "    print(a)\n",
    "    print(b)"
   ]
  },
  {
   "cell_type": "markdown",
   "id": "120805b9",
   "metadata": {},
   "source": [
    "## NESTED FOOR LOOP"
   ]
  },
  {
   "cell_type": "code",
   "execution_count": 5,
   "id": "22aa3a17",
   "metadata": {},
   "outputs": [
    {
     "name": "stdout",
     "output_type": "stream",
     "text": [
      "dhaka\n",
      "dhaka Bangladesh\n",
      "dhaka Italy\n",
      "dhaka India\n",
      "rome\n",
      "rome Bangladesh\n",
      "rome Italy\n",
      "rome India\n",
      "delhi\n",
      "delhi Bangladesh\n",
      "delhi Italy\n",
      "delhi India\n"
     ]
    }
   ],
   "source": [
    "city = ['dhaka', 'rome', 'delhi']\n",
    "country = ['Bangladesh', 'Italy', 'India']\n",
    "\n",
    "for x in city:\n",
    "    print(x)\n",
    "    for y in country:\n",
    "        print(x,y)"
   ]
  },
  {
   "cell_type": "markdown",
   "id": "33258479",
   "metadata": {},
   "source": [
    "## WHILE LOOP"
   ]
  },
  {
   "cell_type": "code",
   "execution_count": 6,
   "id": "f64f7dbb",
   "metadata": {},
   "outputs": [],
   "source": [
    "# while loop will continue to do something untill that conditioned is fullfilled"
   ]
  },
  {
   "cell_type": "code",
   "execution_count": 7,
   "id": "3976eeea",
   "metadata": {},
   "outputs": [
    {
     "name": "stdout",
     "output_type": "stream",
     "text": [
      "1\n",
      "2\n",
      "3\n",
      "4\n",
      "5\n",
      "6\n",
      "y is more than 5\n"
     ]
    }
   ],
   "source": [
    "y = 0\n",
    "while y<=5:\n",
    "    y += 1\n",
    "# same as y = y+1\n",
    "    print(y)\n",
    "else:\n",
    "    print('y is more than 5')"
   ]
  },
  {
   "cell_type": "markdown",
   "id": "0beb9ebc",
   "metadata": {},
   "source": [
    "### BREAK PASS CONTINUE"
   ]
  },
  {
   "cell_type": "code",
   "execution_count": 1,
   "id": "f3948753",
   "metadata": {},
   "outputs": [],
   "source": [
    "# pass: when it is applied it makes the overall program run without interuupting. "
   ]
  },
  {
   "cell_type": "code",
   "execution_count": 2,
   "id": "2bf71c13",
   "metadata": {},
   "outputs": [],
   "source": [
    "i = [1,2,3]\n",
    "for x in i:\n",
    "    pass"
   ]
  },
  {
   "cell_type": "code",
   "execution_count": 13,
   "id": "907ba10a",
   "metadata": {},
   "outputs": [],
   "source": [
    "# continue: if a condition if s true goes to the top of the current continuing loop without going further."
   ]
  },
  {
   "cell_type": "code",
   "execution_count": 12,
   "id": "10d9114b",
   "metadata": {},
   "outputs": [
    {
     "name": "stdout",
     "output_type": "stream",
     "text": [
      "t\n",
      "m\n",
      "i\n",
      "m\n"
     ]
    }
   ],
   "source": [
    "my_string = 'tamim'\n",
    "for x in my_string:\n",
    "    if x == 'a':\n",
    "        continue\n",
    "    print(x)\n"
   ]
  },
  {
   "cell_type": "code",
   "execution_count": 15,
   "id": "e4a7c3df",
   "metadata": {},
   "outputs": [],
   "source": [
    "# break:  break current loop if it meets certain condition"
   ]
  },
  {
   "cell_type": "code",
   "execution_count": 3,
   "id": "1f6e4d8d",
   "metadata": {},
   "outputs": [
    {
     "name": "stdout",
     "output_type": "stream",
     "text": [
      "t\n",
      "m\n"
     ]
    }
   ],
   "source": [
    "my_string = 'tmaim'\n",
    "for x in my_string:\n",
    "    if x == 'a':\n",
    "        break\n",
    "    print(x)"
   ]
  },
  {
   "cell_type": "markdown",
   "id": "ede8a27b",
   "metadata": {},
   "source": [
    "## USEFUL OPERATORS"
   ]
  },
  {
   "cell_type": "markdown",
   "id": "4018c786",
   "metadata": {},
   "source": [
    "### range "
   ]
  },
  {
   "cell_type": "code",
   "execution_count": 20,
   "id": "44197567",
   "metadata": {},
   "outputs": [
    {
     "data": {
      "text/plain": [
       "[1, 6, 11, 16, 21, 26, 31, 36, 41, 46, 51, 56, 61, 66, 71, 76, 81, 86, 91, 96]"
      ]
     },
     "execution_count": 20,
     "metadata": {},
     "output_type": "execute_result"
    }
   ],
   "source": [
    "list(range(1,100,5))"
   ]
  },
  {
   "cell_type": "code",
   "execution_count": 22,
   "id": "ddbbf0bb",
   "metadata": {},
   "outputs": [
    {
     "name": "stdout",
     "output_type": "stream",
     "text": [
      "0\n",
      "1\n",
      "2\n",
      "3\n",
      "4\n",
      "5\n",
      "6\n",
      "7\n",
      "8\n",
      "9\n"
     ]
    }
   ],
   "source": [
    "for x in range(10):\n",
    "    print(x)"
   ]
  },
  {
   "cell_type": "code",
   "execution_count": 23,
   "id": "464034f3",
   "metadata": {},
   "outputs": [],
   "source": [
    "# range is a generator therfore we can not get anything if we write only ------range(100)"
   ]
  },
  {
   "cell_type": "markdown",
   "id": "277b6941",
   "metadata": {},
   "source": [
    "### Enumerate"
   ]
  },
  {
   "cell_type": "code",
   "execution_count": 24,
   "id": "bcd5a685",
   "metadata": {},
   "outputs": [],
   "source": [
    "# firstly we are going to see the intuition behimf the enumerate function"
   ]
  },
  {
   "cell_type": "code",
   "execution_count": 28,
   "id": "39f8a55b",
   "metadata": {},
   "outputs": [
    {
     "name": "stdout",
     "output_type": "stream",
     "text": [
      "0 t\n",
      "\n",
      "\n",
      "1 a\n",
      "\n",
      "\n",
      "2 m\n",
      "\n",
      "\n",
      "3 i\n",
      "\n",
      "\n",
      "4 m\n",
      "\n",
      "\n"
     ]
    }
   ],
   "source": [
    "index_count = 0\n",
    "lapd = 'tamim'\n",
    "for x in lapd:\n",
    "    print(index_count, x)\n",
    "    index_count+=1\n",
    "    print('\\n')"
   ]
  },
  {
   "cell_type": "code",
   "execution_count": 29,
   "id": "84983a67",
   "metadata": {},
   "outputs": [],
   "source": [
    "#the above codes shows the index position for each letter in python. However this thing has very common and this is why python built a function fro this."
   ]
  },
  {
   "cell_type": "code",
   "execution_count": 31,
   "id": "26089c2b",
   "metadata": {},
   "outputs": [
    {
     "name": "stdout",
     "output_type": "stream",
     "text": [
      "(0, 't')\n",
      "(1, 'a')\n",
      "(2, 'm')\n",
      "(3, 'i')\n",
      "(4, 'm')\n"
     ]
    }
   ],
   "source": [
    "for x in enumerate('tamim'):\n",
    "    print(x)"
   ]
  },
  {
   "cell_type": "code",
   "execution_count": 35,
   "id": "c4d5a048",
   "metadata": {},
   "outputs": [
    {
     "name": "stdout",
     "output_type": "stream",
     "text": [
      "0\n",
      "t\n",
      "\n",
      "\n",
      "1\n",
      "a\n",
      "\n",
      "\n",
      "2\n",
      "m\n",
      "\n",
      "\n"
     ]
    }
   ],
   "source": [
    "# since enumerate gives us a tuple and we can unpack it. \n",
    "for x,y in enumerate('tam'):\n",
    "    print(x)\n",
    "    print(y)\n",
    "    print('\\n')"
   ]
  },
  {
   "cell_type": "markdown",
   "id": "f6045a51",
   "metadata": {},
   "source": [
    "### zip"
   ]
  },
  {
   "cell_type": "code",
   "execution_count": 36,
   "id": "baf1349b",
   "metadata": {},
   "outputs": [
    {
     "data": {
      "text/plain": [
       "<zip at 0x1996c202500>"
      ]
     },
     "execution_count": 36,
     "metadata": {},
     "output_type": "execute_result"
    }
   ],
   "source": [
    "mylist1 = [1,2,3,4]\n",
    "mylist2 = ['a','b','c','d']\n",
    "\n",
    "zip(mylist1, mylist2)"
   ]
  },
  {
   "cell_type": "code",
   "execution_count": 37,
   "id": "607e77b7",
   "metadata": {},
   "outputs": [],
   "source": [
    "# zip is generator therfor we have to pass it through a lsit to get the value"
   ]
  },
  {
   "cell_type": "code",
   "execution_count": 38,
   "id": "5d874c6a",
   "metadata": {},
   "outputs": [
    {
     "data": {
      "text/plain": [
       "[(1, 'a'), (2, 'b'), (3, 'c'), (4, 'd')]"
      ]
     },
     "execution_count": 38,
     "metadata": {},
     "output_type": "execute_result"
    }
   ],
   "source": [
    "list(zip(mylist1, mylist2))"
   ]
  },
  {
   "cell_type": "code",
   "execution_count": 39,
   "id": "4ecf196c",
   "metadata": {},
   "outputs": [],
   "source": [
    "# However the generators are iterable therefore we can do the for loop here."
   ]
  },
  {
   "cell_type": "code",
   "execution_count": 41,
   "id": "37c3ed72",
   "metadata": {},
   "outputs": [
    {
     "name": "stdout",
     "output_type": "stream",
     "text": [
      "1\n",
      "a\n",
      "\n",
      "\n",
      "2\n",
      "b\n",
      "\n",
      "\n",
      "3\n",
      "c\n",
      "\n",
      "\n",
      "4\n",
      "d\n",
      "\n",
      "\n"
     ]
    }
   ],
   "source": [
    "for x,y in zip(mylist1, mylist2):\n",
    "    print(x)\n",
    "    print(y)\n",
    "    print('\\n')"
   ]
  },
  {
   "cell_type": "markdown",
   "id": "07957cee",
   "metadata": {},
   "source": [
    "### We can check whether something is in the list, string or dictionary."
   ]
  },
  {
   "cell_type": "code",
   "execution_count": 42,
   "id": "8696cc5e",
   "metadata": {},
   "outputs": [
    {
     "data": {
      "text/plain": [
       "False"
      ]
     },
     "execution_count": 42,
     "metadata": {},
     "output_type": "execute_result"
    }
   ],
   "source": [
    "'x' in [1,2,3,4]"
   ]
  },
  {
   "cell_type": "code",
   "execution_count": 43,
   "id": "344f753b",
   "metadata": {},
   "outputs": [
    {
     "data": {
      "text/plain": [
       "True"
      ]
     },
     "execution_count": 43,
     "metadata": {},
     "output_type": "execute_result"
    }
   ],
   "source": [
    "1 in [1,2,3,4,5]"
   ]
  },
  {
   "cell_type": "code",
   "execution_count": 44,
   "id": "4e5ca07c",
   "metadata": {},
   "outputs": [
    {
     "data": {
      "text/plain": [
       "True"
      ]
     },
     "execution_count": 44,
     "metadata": {},
     "output_type": "execute_result"
    }
   ],
   "source": [
    "'a' in 'abcd'"
   ]
  },
  {
   "cell_type": "code",
   "execution_count": 45,
   "id": "5b183650",
   "metadata": {},
   "outputs": [
    {
     "data": {
      "text/plain": [
       "True"
      ]
     },
     "execution_count": 45,
     "metadata": {},
     "output_type": "execute_result"
    }
   ],
   "source": [
    "'my' in {'my':23}"
   ]
  },
  {
   "cell_type": "code",
   "execution_count": 49,
   "id": "a26839af",
   "metadata": {},
   "outputs": [
    {
     "data": {
      "text/plain": [
       "True"
      ]
     },
     "execution_count": 49,
     "metadata": {},
     "output_type": "execute_result"
    }
   ],
   "source": [
    "23 in {'my':23}.values()"
   ]
  },
  {
   "cell_type": "code",
   "execution_count": 50,
   "id": "50e878ae",
   "metadata": {},
   "outputs": [],
   "source": [
    "# We can shuffle any list"
   ]
  },
  {
   "cell_type": "code",
   "execution_count": 51,
   "id": "ffff3f51",
   "metadata": {},
   "outputs": [],
   "source": [
    "from random import shuffle"
   ]
  },
  {
   "cell_type": "code",
   "execution_count": 53,
   "id": "36ff566c",
   "metadata": {},
   "outputs": [
    {
     "data": {
      "text/plain": [
       "[3, 1, 5, 2, 6, 4, 7]"
      ]
     },
     "execution_count": 53,
     "metadata": {},
     "output_type": "execute_result"
    }
   ],
   "source": [
    "ww = [1,2,3,4,5,6,7]\n",
    "shuffle(ww)\n",
    "ww"
   ]
  },
  {
   "cell_type": "code",
   "execution_count": 54,
   "id": "dc03b06d",
   "metadata": {},
   "outputs": [],
   "source": [
    "# We can also have the access to the random function without even calling the numpy library"
   ]
  },
  {
   "cell_type": "code",
   "execution_count": 55,
   "id": "ba279621",
   "metadata": {},
   "outputs": [],
   "source": [
    "from random import randint"
   ]
  },
  {
   "cell_type": "code",
   "execution_count": 57,
   "id": "d5a6830d",
   "metadata": {},
   "outputs": [
    {
     "data": {
      "text/plain": [
       "27"
      ]
     },
     "execution_count": 57,
     "metadata": {},
     "output_type": "execute_result"
    }
   ],
   "source": [
    "randint(1,100)"
   ]
  },
  {
   "cell_type": "code",
   "execution_count": 58,
   "id": "86596c0a",
   "metadata": {},
   "outputs": [],
   "source": [
    "# we have to remeber that enter function is always a string"
   ]
  },
  {
   "cell_type": "markdown",
   "id": "46b46ef1",
   "metadata": {},
   "source": [
    "## LIST COMPREHENSION"
   ]
  },
  {
   "cell_type": "code",
   "execution_count": 59,
   "id": "19ce706e",
   "metadata": {},
   "outputs": [],
   "source": [
    "# lets see how awful  our life is without the list comprehension"
   ]
  },
  {
   "cell_type": "code",
   "execution_count": 60,
   "id": "2df8004b",
   "metadata": {},
   "outputs": [
    {
     "name": "stdout",
     "output_type": "stream",
     "text": [
      "['t', 'a', 'm', 'i', 'm']\n"
     ]
    }
   ],
   "source": [
    "let = 'tamim'\n",
    "listlet = []\n",
    "for x in let:\n",
    "    listlet.append(x)\n",
    "\n",
    "print(listlet)\n",
    "    "
   ]
  },
  {
   "cell_type": "code",
   "execution_count": 61,
   "id": "1676e418",
   "metadata": {},
   "outputs": [],
   "source": [
    "# however with the list comprehension we can do everything in a very simple step."
   ]
  },
  {
   "cell_type": "code",
   "execution_count": 64,
   "id": "f387258f",
   "metadata": {},
   "outputs": [
    {
     "data": {
      "text/plain": [
       "['t', 'a', 'm', 'i', 'm']"
      ]
     },
     "execution_count": 64,
     "metadata": {},
     "output_type": "execute_result"
    }
   ],
   "source": [
    "mylist = [x for x in let]\n",
    "mylist"
   ]
  },
  {
   "cell_type": "code",
   "execution_count": 69,
   "id": "84ac80cb",
   "metadata": {},
   "outputs": [
    {
     "data": {
      "text/plain": [
       "[1, 8, 27, 64, 125, 216, 343, 512, 729]"
      ]
     },
     "execution_count": 69,
     "metadata": {},
     "output_type": "execute_result"
    }
   ],
   "source": [
    "tt = [x**3 for x in range(1,10)]\n",
    "tt"
   ]
  },
  {
   "cell_type": "markdown",
   "id": "56672381",
   "metadata": {},
   "source": [
    "### if else in list comprehension"
   ]
  },
  {
   "cell_type": "markdown",
   "id": "3f1731f3",
   "metadata": {},
   "source": [
    "#### Only if sstatement should be at the last like the follwing example"
   ]
  },
  {
   "cell_type": "code",
   "execution_count": 78,
   "id": "b9eaf5eb",
   "metadata": {},
   "outputs": [
    {
     "data": {
      "text/plain": [
       "[0, 2, 4, 6, 8]"
      ]
     },
     "execution_count": 78,
     "metadata": {},
     "output_type": "execute_result"
    }
   ],
   "source": [
    "# even numbers list\n",
    "[x for x in range(10) if x%2==0]"
   ]
  },
  {
   "cell_type": "markdown",
   "id": "9bff1b90",
   "metadata": {},
   "source": [
    "#### full if else statement should be at the beginning like the following example"
   ]
  },
  {
   "cell_type": "code",
   "execution_count": 79,
   "id": "b6959685",
   "metadata": {},
   "outputs": [
    {
     "data": {
      "text/plain": [
       "[0, 'ODD', 2, 'ODD', 4, 'ODD', 6, 'ODD', 8, 'ODD']"
      ]
     },
     "execution_count": 79,
     "metadata": {},
     "output_type": "execute_result"
    }
   ],
   "source": [
    "[x if x%2==0 else 'ODD' for x in range(10) ]"
   ]
  },
  {
   "cell_type": "code",
   "execution_count": 74,
   "id": "830b9d17",
   "metadata": {},
   "outputs": [
    {
     "data": {
      "text/plain": [
       "[50.0, 68.0, 86.0, 104.0]"
      ]
     },
     "execution_count": 74,
     "metadata": {},
     "output_type": "execute_result"
    }
   ],
   "source": [
    "# lets see how we can convert fareheight into celciuls\n",
    "celcius = [10,20,30,40]\n",
    "farenheight = [(9/5)*x +32 for x in celcius]\n",
    "farenheight"
   ]
  },
  {
   "cell_type": "markdown",
   "id": "d7ff5542",
   "metadata": {},
   "source": [
    "### NESTED LOOP in list comprehension"
   ]
  },
  {
   "cell_type": "code",
   "execution_count": 83,
   "id": "03f06606",
   "metadata": {},
   "outputs": [
    {
     "data": {
      "text/plain": [
       "[200, 400, 600, 300, 600, 900, 400, 800, 1200]"
      ]
     },
     "execution_count": 83,
     "metadata": {},
     "output_type": "execute_result"
    }
   ],
   "source": [
    "[(x*y) for x in [2,3,4] for y in [100,200,300]]"
   ]
  },
  {
   "cell_type": "code",
   "execution_count": null,
   "id": "52bd7b1b",
   "metadata": {},
   "outputs": [],
   "source": []
  }
 ],
 "metadata": {
  "kernelspec": {
   "display_name": "Python 3 (ipykernel)",
   "language": "python",
   "name": "python3"
  },
  "language_info": {
   "codemirror_mode": {
    "name": "ipython",
    "version": 3
   },
   "file_extension": ".py",
   "mimetype": "text/x-python",
   "name": "python",
   "nbconvert_exporter": "python",
   "pygments_lexer": "ipython3",
   "version": "3.9.5"
  }
 },
 "nbformat": 4,
 "nbformat_minor": 5
}
