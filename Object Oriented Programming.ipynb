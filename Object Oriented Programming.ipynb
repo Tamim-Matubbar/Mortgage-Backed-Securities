{
 "cells": [
  {
   "cell_type": "markdown",
   "id": "45d1c630",
   "metadata": {},
   "source": [
    "## OOP BASICS"
   ]
  },
  {
   "cell_type": "code",
   "execution_count": 1,
   "id": "2929ec04",
   "metadata": {},
   "outputs": [],
   "source": [
    "var = list()"
   ]
  },
  {
   "cell_type": "code",
   "execution_count": 36,
   "id": "33e44903",
   "metadata": {},
   "outputs": [
    {
     "data": {
      "text/plain": [
       "['r']"
      ]
     },
     "execution_count": 36,
     "metadata": {},
     "output_type": "execute_result"
    }
   ],
   "source": [
    "var"
   ]
  },
  {
   "cell_type": "code",
   "execution_count": 4,
   "id": "4a19114c",
   "metadata": {},
   "outputs": [],
   "source": [
    "var.append('r')"
   ]
  },
  {
   "cell_type": "code",
   "execution_count": 5,
   "id": "8da2858e",
   "metadata": {},
   "outputs": [
    {
     "data": {
      "text/plain": [
       "['r']"
      ]
     },
     "execution_count": 5,
     "metadata": {},
     "output_type": "execute_result"
    }
   ],
   "source": [
    "var"
   ]
  },
  {
   "cell_type": "markdown",
   "id": "844fed94",
   "metadata": {},
   "source": [
    "If we notice we can see that my \"var\" variable is an object of set() class. since it is is an object of the set() class we can do a lot of things with the var variable.              \n",
    "we can see by typing var. + Tab. We can a bunch of methods that we can apply. In the aforementioned example we can see that applying same thing with var wwe can seea lof of methods which were inbuilt in the class of set()"
   ]
  },
  {
   "cell_type": "code",
   "execution_count": 10,
   "id": "3e6727ad",
   "metadata": {},
   "outputs": [],
   "source": [
    "# lets see the simplest structure of the class\n",
    "class Sample():\n",
    "    pass"
   ]
  },
  {
   "cell_type": "code",
   "execution_count": 11,
   "id": "fa901ec4",
   "metadata": {},
   "outputs": [],
   "source": [
    "yy = Sample()"
   ]
  },
  {
   "cell_type": "code",
   "execution_count": 12,
   "id": "56abdd1d",
   "metadata": {},
   "outputs": [
    {
     "data": {
      "text/plain": [
       "__main__.Sample"
      ]
     },
     "execution_count": 12,
     "metadata": {},
     "output_type": "execute_result"
    }
   ],
   "source": [
    "# we can see that its a sample class.\n",
    "type(yy)"
   ]
  },
  {
   "cell_type": "code",
   "execution_count": 14,
   "id": "1f881d63",
   "metadata": {},
   "outputs": [],
   "source": [
    "# Lets explore"
   ]
  },
  {
   "cell_type": "code",
   "execution_count": 22,
   "id": "9535f8d3",
   "metadata": {},
   "outputs": [],
   "source": [
    "class Dog():\n",
    "    \n",
    "    def __init__(self, breed):\n",
    "        # we are taking the variable breed and assigning it to self.breed. \n",
    "        # Here, self.breed is connecting the variable with the classs itself. \n",
    "        # we take arguments and and assign it to self.attribute_name\n",
    "        self.breed = breed\n",
    "\n",
    "# we could have done it and it would have given us the same outcome. \n",
    "# class Dog(): \n",
    "#    def __init__(self, mybreed):\n",
    "#       self.breed = mybreed"
   ]
  },
  {
   "cell_type": "code",
   "execution_count": 20,
   "id": "0a94292a",
   "metadata": {},
   "outputs": [],
   "source": [
    "faouzi = Dog('Lab')"
   ]
  },
  {
   "cell_type": "code",
   "execution_count": 28,
   "id": "2b9d2e9b",
   "metadata": {},
   "outputs": [
    {
     "data": {
      "text/plain": [
       "'Lab'"
      ]
     },
     "execution_count": 28,
     "metadata": {},
     "output_type": "execute_result"
    }
   ],
   "source": [
    "# The attribute which appears here is not the one in we are passing in. \n",
    "# This attribute is self.SOMETHING. this, SOMETHING  is the attribute we should call.\n",
    "faouzi.breed"
   ]
  },
  {
   "cell_type": "code",
   "execution_count": 29,
   "id": "b1b57a5a",
   "metadata": {},
   "outputs": [],
   "source": [
    "# lets take the class to the further\n",
    "class Dog(): \n",
    "    # Here we usse an attribute in the claass object level\n",
    "    # It is going to be the same for any INSTANCE of this Class. \n",
    "    species = 'mammal'\n",
    "    def __init__(self, breed,name,spot):\n",
    "        self.breed = breed\n",
    "        self.name = name\n",
    "        self.spot = spot"
   ]
  },
  {
   "cell_type": "code",
   "execution_count": 25,
   "id": "6efd19da",
   "metadata": {},
   "outputs": [],
   "source": [
    "enzo = Dog('lab', 'us', 'False')"
   ]
  },
  {
   "cell_type": "code",
   "execution_count": 26,
   "id": "d1736fde",
   "metadata": {},
   "outputs": [
    {
     "data": {
      "text/plain": [
       "'mammal'"
      ]
     },
     "execution_count": 26,
     "metadata": {},
     "output_type": "execute_result"
    }
   ],
   "source": [
    "enzo.species"
   ]
  },
  {
   "cell_type": "code",
   "execution_count": 27,
   "id": "4decc932",
   "metadata": {},
   "outputs": [
    {
     "data": {
      "text/plain": [
       "'us'"
      ]
     },
     "execution_count": 27,
     "metadata": {},
     "output_type": "execute_result"
    }
   ],
   "source": [
    "enzo.name"
   ]
  },
  {
   "cell_type": "code",
   "execution_count": 30,
   "id": "47a8774e",
   "metadata": {},
   "outputs": [
    {
     "data": {
      "text/plain": [
       "'False'"
      ]
     },
     "execution_count": 30,
     "metadata": {},
     "output_type": "execute_result"
    }
   ],
   "source": [
    "enzo.spot"
   ]
  },
  {
   "cell_type": "code",
   "execution_count": 53,
   "id": "9279ceb0",
   "metadata": {},
   "outputs": [],
   "source": [
    "# lets take the class to the further\n",
    "class Dog(): \n",
    "    # Here we usse an attribute in the claass object level\n",
    "    # It is going to be the same for any INSTANCE of this Class. \n",
    "    species = 'mammal'\n",
    "    def __init__(self, breed,name):\n",
    "        self.breed = breed\n",
    "        self.name = name\n",
    "    \n",
    "    # OPERATIONS\\ACTIONS----> Methods. \n",
    "    # Method is simply the funcion inside the class.\n",
    "    def bark(self, age): # we can pass an argument which should be provided when calling the function.\n",
    "        print(f'WOOF!!! My name is {self.name} and my age is {age}') # we dont provide the self.age cz its not attribute.  "
   ]
  },
  {
   "cell_type": "code",
   "execution_count": 54,
   "id": "998483da",
   "metadata": {},
   "outputs": [],
   "source": [
    "enzo = Dog('lab','tortelli')"
   ]
  },
  {
   "cell_type": "code",
   "execution_count": 55,
   "id": "60d6ecb4",
   "metadata": {},
   "outputs": [
    {
     "name": "stdout",
     "output_type": "stream",
     "text": [
      "WOOF!!! My name is tortelli and my age is 10\n"
     ]
    }
   ],
   "source": [
    "enzo.bark(10)"
   ]
  },
  {
   "cell_type": "markdown",
   "id": "acb1d146",
   "metadata": {},
   "source": [
    "#### Now lets make a class of a circle"
   ]
  },
  {
   "cell_type": "code",
   "execution_count": 67,
   "id": "706352df",
   "metadata": {},
   "outputs": [],
   "source": [
    "class Circle():\n",
    "    pi = 3.14\n",
    "    def area(self):\n",
    "        r = int(input('input your radius'))\n",
    "        print(self.pi*(r**2))"
   ]
  },
  {
   "cell_type": "code",
   "execution_count": 68,
   "id": "b5417b46",
   "metadata": {},
   "outputs": [],
   "source": [
    "circle = Circle()"
   ]
  },
  {
   "cell_type": "code",
   "execution_count": 69,
   "id": "addfe1d1",
   "metadata": {},
   "outputs": [
    {
     "name": "stdout",
     "output_type": "stream",
     "text": [
      "input your radius10\n",
      "314.0\n"
     ]
    }
   ],
   "source": [
    "circle.area()"
   ]
  },
  {
   "cell_type": "code",
   "execution_count": 70,
   "id": "ed9aac86",
   "metadata": {},
   "outputs": [],
   "source": [
    "# we could also do this\n",
    "class Circle():\n",
    "    pi = 3.14\n",
    "    def __init__(self, radius = 1):\n",
    "        self.radius = radius\n",
    "        self.area = (radius**2)*self.pi"
   ]
  },
  {
   "cell_type": "code",
   "execution_count": 71,
   "id": "7c0c0a3b",
   "metadata": {},
   "outputs": [],
   "source": [
    "ff = Circle(10)"
   ]
  },
  {
   "cell_type": "code",
   "execution_count": 72,
   "id": "e69f9d01",
   "metadata": {},
   "outputs": [
    {
     "data": {
      "text/plain": [
       "314.0"
      ]
     },
     "execution_count": 72,
     "metadata": {},
     "output_type": "execute_result"
    }
   ],
   "source": [
    "ff.area"
   ]
  },
  {
   "cell_type": "markdown",
   "id": "748af9bf",
   "metadata": {},
   "source": [
    "## Inheritance and Polymorphism"
   ]
  },
  {
   "cell_type": "code",
   "execution_count": null,
   "id": "0d16b6fc",
   "metadata": {},
   "outputs": [],
   "source": []
  }
 ],
 "metadata": {
  "kernelspec": {
   "display_name": "Python 3 (ipykernel)",
   "language": "python",
   "name": "python3"
  },
  "language_info": {
   "codemirror_mode": {
    "name": "ipython",
    "version": 3
   },
   "file_extension": ".py",
   "mimetype": "text/x-python",
   "name": "python",
   "nbconvert_exporter": "python",
   "pygments_lexer": "ipython3",
   "version": "3.9.5"
  }
 },
 "nbformat": 4,
 "nbformat_minor": 5
}
