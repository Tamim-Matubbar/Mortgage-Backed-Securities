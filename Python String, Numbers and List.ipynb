{
 "cells": [
  {
   "cell_type": "code",
   "execution_count": 1,
   "id": "a4d72c65",
   "metadata": {},
   "outputs": [
    {
     "data": {
      "text/plain": [
       "'hasan'"
      ]
     },
     "execution_count": 1,
     "metadata": {},
     "output_type": "execute_result"
    }
   ],
   "source": [
    "'tamim'\n",
    "'hasan'"
   ]
  },
  {
   "cell_type": "code",
   "execution_count": 2,
   "id": "d445b305",
   "metadata": {},
   "outputs": [
    {
     "name": "stdout",
     "output_type": "stream",
     "text": [
      "tamim\n",
      "hasan\n"
     ]
    }
   ],
   "source": [
    "print('tamim')\n",
    "print('hasan')"
   ]
  },
  {
   "cell_type": "code",
   "execution_count": 3,
   "id": "6ac3eea0",
   "metadata": {},
   "outputs": [],
   "source": [
    "# to use tab we can use /t\n",
    "# to use enter we can sue /n"
   ]
  },
  {
   "cell_type": "code",
   "execution_count": 4,
   "id": "afad2cbb",
   "metadata": {},
   "outputs": [
    {
     "name": "stdout",
     "output_type": "stream",
     "text": [
      "tamim \t hasan\n",
      "tamim \n",
      " hasan\n"
     ]
    }
   ],
   "source": [
    "print('tamim \\t hasan')\n",
    "print('tamim \\n hasan')"
   ]
  },
  {
   "cell_type": "code",
   "execution_count": 5,
   "id": "c849de96",
   "metadata": {},
   "outputs": [],
   "source": [
    "# len tells use the lenght of the string"
   ]
  },
  {
   "cell_type": "code",
   "execution_count": 7,
   "id": "e6c3de90",
   "metadata": {},
   "outputs": [
    {
     "data": {
      "text/plain": [
       "8"
      ]
     },
     "execution_count": 7,
     "metadata": {},
     "output_type": "execute_result"
    }
   ],
   "source": [
    "len('i am the')"
   ]
  },
  {
   "cell_type": "code",
   "execution_count": 5,
   "id": "8e42dfa8",
   "metadata": {},
   "outputs": [
    {
     "data": {
      "text/plain": [
       "'lisa'"
      ]
     },
     "execution_count": 5,
     "metadata": {},
     "output_type": "execute_result"
    }
   ],
   "source": [
    "name = 'liz'\n",
    "name.replace('z', 'sa')"
   ]
  },
  {
   "cell_type": "code",
   "execution_count": 6,
   "id": "a3b3d806",
   "metadata": {},
   "outputs": [
    {
     "data": {
      "text/plain": [
       "'Liz'"
      ]
     },
     "execution_count": 6,
     "metadata": {},
     "output_type": "execute_result"
    }
   ],
   "source": [
    "name = 'liz'\n",
    "name.capitalize()"
   ]
  },
  {
   "cell_type": "code",
   "execution_count": 9,
   "id": "d46be3d6",
   "metadata": {},
   "outputs": [],
   "source": [
    "# : says the start and the end point of the code :3 means upto 3 but 3 is not included but 3: means after 3 but 3 is included"
   ]
  },
  {
   "cell_type": "code",
   "execution_count": 10,
   "id": "21acb775",
   "metadata": {},
   "outputs": [],
   "source": [
    "tamim = 'thelhamanus'"
   ]
  },
  {
   "cell_type": "code",
   "execution_count": 12,
   "id": "fb82998d",
   "metadata": {},
   "outputs": [],
   "source": [
    "# : : it says the range for the strings and also last : says the break or interval of getting each string."
   ]
  },
  {
   "cell_type": "code",
   "execution_count": 14,
   "id": "ce348f0d",
   "metadata": {},
   "outputs": [
    {
     "data": {
      "text/plain": [
       "'hha'"
      ]
     },
     "execution_count": 14,
     "metadata": {},
     "output_type": "execute_result"
    }
   ],
   "source": [
    "tamim[1:10:3]"
   ]
  },
  {
   "cell_type": "code",
   "execution_count": 15,
   "id": "a35216a2",
   "metadata": {},
   "outputs": [],
   "source": [
    "# a trick to reverse the strings without using the ofr loop is : : -1"
   ]
  },
  {
   "cell_type": "code",
   "execution_count": 17,
   "id": "2d8a7c49",
   "metadata": {},
   "outputs": [
    {
     "data": {
      "text/plain": [
       "'sunamahleht'"
      ]
     },
     "execution_count": 17,
     "metadata": {},
     "output_type": "execute_result"
    }
   ],
   "source": [
    "tamim[::-1]"
   ]
  },
  {
   "cell_type": "code",
   "execution_count": 18,
   "id": "743a68d1",
   "metadata": {},
   "outputs": [],
   "source": [
    "# concatanation"
   ]
  },
  {
   "cell_type": "code",
   "execution_count": 20,
   "id": "b4a7e8cf",
   "metadata": {},
   "outputs": [],
   "source": [
    "r = 'tamim'\n",
    "t = 'hasan'"
   ]
  },
  {
   "cell_type": "code",
   "execution_count": 22,
   "id": "acc9fcd9",
   "metadata": {},
   "outputs": [
    {
     "data": {
      "text/plain": [
       "'tamimhasan'"
      ]
     },
     "execution_count": 22,
     "metadata": {},
     "output_type": "execute_result"
    }
   ],
   "source": [
    "r + t"
   ]
  },
  {
   "cell_type": "code",
   "execution_count": 24,
   "id": "0058f50f",
   "metadata": {},
   "outputs": [
    {
     "data": {
      "text/plain": [
       "'tamimtamimtamimtamimtamimtamimtamimtamimtamimtamimtamimtamimtamimtamimtamimtamimtamimtamimtamimtamimhasanhasanhasanhasanhasanhasanhasanhasanhasanhasan'"
      ]
     },
     "execution_count": 24,
     "metadata": {},
     "output_type": "execute_result"
    }
   ],
   "source": [
    "r*20 + t*10"
   ]
  },
  {
   "cell_type": "code",
   "execution_count": 26,
   "id": "f695074c",
   "metadata": {},
   "outputs": [
    {
     "data": {
      "text/plain": [
       "'TAMIM'"
      ]
     },
     "execution_count": 26,
     "metadata": {},
     "output_type": "execute_result"
    }
   ],
   "source": [
    "r.upper()"
   ]
  },
  {
   "cell_type": "code",
   "execution_count": 30,
   "id": "38bffc39",
   "metadata": {},
   "outputs": [
    {
     "data": {
      "text/plain": [
       "'tamim'"
      ]
     },
     "execution_count": 30,
     "metadata": {},
     "output_type": "execute_result"
    }
   ],
   "source": [
    "r.lower()"
   ]
  },
  {
   "cell_type": "code",
   "execution_count": 34,
   "id": "7494b0be",
   "metadata": {},
   "outputs": [],
   "source": [
    "x = 'tamim hasan'"
   ]
  },
  {
   "cell_type": "code",
   "execution_count": 38,
   "id": "87e85409",
   "metadata": {},
   "outputs": [
    {
     "data": {
      "text/plain": [
       "['tamim', 'hasan']"
      ]
     },
     "execution_count": 38,
     "metadata": {},
     "output_type": "execute_result"
    }
   ],
   "source": [
    "x.split()"
   ]
  },
  {
   "cell_type": "code",
   "execution_count": 39,
   "id": "e1ce7af6",
   "metadata": {},
   "outputs": [
    {
     "data": {
      "text/plain": [
       "['ta', 'i', ' hasan']"
      ]
     },
     "execution_count": 39,
     "metadata": {},
     "output_type": "execute_result"
    }
   ],
   "source": [
    "x.split('m')"
   ]
  },
  {
   "cell_type": "code",
   "execution_count": 6,
   "id": "43984b67",
   "metadata": {},
   "outputs": [],
   "source": [
    "# now lets look at the format method() or f string. Usinfg this technique we can insert a variable inside the string."
   ]
  },
  {
   "cell_type": "code",
   "execution_count": 2,
   "id": "60400665",
   "metadata": {},
   "outputs": [],
   "source": [
    "BMI = 44/2"
   ]
  },
  {
   "cell_type": "code",
   "execution_count": 4,
   "id": "f7380900",
   "metadata": {},
   "outputs": [
    {
     "data": {
      "text/plain": [
       "22.0"
      ]
     },
     "execution_count": 4,
     "metadata": {},
     "output_type": "execute_result"
    }
   ],
   "source": [
    "BMI"
   ]
  },
  {
   "cell_type": "code",
   "execution_count": 5,
   "id": "8af87bb8",
   "metadata": {},
   "outputs": [
    {
     "name": "stdout",
     "output_type": "stream",
     "text": [
      "my BMI is 22.0\n"
     ]
    }
   ],
   "source": [
    "print(f'my BMI is {BMI}')"
   ]
  },
  {
   "cell_type": "code",
   "execution_count": 7,
   "id": "f378345b",
   "metadata": {},
   "outputs": [],
   "source": [
    "# Now we are going to look into the Python Lists"
   ]
  },
  {
   "cell_type": "code",
   "execution_count": 12,
   "id": "4bdca306",
   "metadata": {},
   "outputs": [],
   "source": [
    "my_list = [4,5,6,7,6,5,4,3]\n",
    "my_list_1 = ['tamim', 'hasan', 'matubbar']\n",
    "my_list_2 = ['tamim', 6,7,33.4]"
   ]
  },
  {
   "cell_type": "code",
   "execution_count": 15,
   "id": "9598c04b",
   "metadata": {},
   "outputs": [],
   "source": [
    "# we can grab any value from the list bybindicating the index position. it is the same like strong slicing that we saw earlier"
   ]
  },
  {
   "cell_type": "code",
   "execution_count": 14,
   "id": "3d965592",
   "metadata": {},
   "outputs": [
    {
     "data": {
      "text/plain": [
       "4"
      ]
     },
     "execution_count": 14,
     "metadata": {},
     "output_type": "execute_result"
    }
   ],
   "source": [
    "my_list[0]"
   ]
  },
  {
   "cell_type": "code",
   "execution_count": 18,
   "id": "37cdab0b",
   "metadata": {},
   "outputs": [],
   "source": [
    "# we can also concatanate the list"
   ]
  },
  {
   "cell_type": "code",
   "execution_count": 17,
   "id": "071889b8",
   "metadata": {},
   "outputs": [
    {
     "data": {
      "text/plain": [
       "[4, 5, 6, 7, 6, 5, 4, 3, 'tamim', 'hasan', 'matubbar']"
      ]
     },
     "execution_count": 17,
     "metadata": {},
     "output_type": "execute_result"
    }
   ],
   "source": [
    "my_list + my_list_1"
   ]
  },
  {
   "cell_type": "code",
   "execution_count": 19,
   "id": "263d1249",
   "metadata": {},
   "outputs": [],
   "source": [
    "# However we can insert the list elemnt which was not popssible for the string. lets see how"
   ]
  },
  {
   "cell_type": "code",
   "execution_count": 21,
   "id": "75cbb9cb",
   "metadata": {},
   "outputs": [
    {
     "data": {
      "text/plain": [
       "[4, 5, 6, 7, 6, 5, 4, 3]"
      ]
     },
     "execution_count": 21,
     "metadata": {},
     "output_type": "execute_result"
    }
   ],
   "source": [
    "my_list"
   ]
  },
  {
   "cell_type": "code",
   "execution_count": 22,
   "id": "e2c38a63",
   "metadata": {},
   "outputs": [],
   "source": [
    "my_list[0]= 'thelmahanus'"
   ]
  },
  {
   "cell_type": "code",
   "execution_count": 48,
   "id": "9bdb9c42",
   "metadata": {},
   "outputs": [
    {
     "data": {
      "text/plain": [
       "['thelmahanus', 5, 6, 7, 6, 5, 4]"
      ]
     },
     "execution_count": 48,
     "metadata": {},
     "output_type": "execute_result"
    }
   ],
   "source": [
    "my_list"
   ]
  },
  {
   "cell_type": "code",
   "execution_count": 34,
   "id": "4306fd98",
   "metadata": {},
   "outputs": [],
   "source": [
    "# we can also use append method to add new item to the end of the ."
   ]
  },
  {
   "cell_type": "code",
   "execution_count": 49,
   "id": "11549f8a",
   "metadata": {},
   "outputs": [],
   "source": [
    "my_list.append('yobro')"
   ]
  },
  {
   "cell_type": "code",
   "execution_count": 50,
   "id": "db73270b",
   "metadata": {
    "scrolled": true
   },
   "outputs": [
    {
     "data": {
      "text/plain": [
       "['thelmahanus', 5, 6, 7, 6, 5, 4, 'yobro']"
      ]
     },
     "execution_count": 50,
     "metadata": {},
     "output_type": "execute_result"
    }
   ],
   "source": [
    "my_list"
   ]
  },
  {
   "cell_type": "code",
   "execution_count": 53,
   "id": "74519261",
   "metadata": {},
   "outputs": [],
   "source": [
    "# to remove an item from the end of the list we can use the POP method. we can put an index location inside the pop method"
   ]
  },
  {
   "cell_type": "code",
   "execution_count": 51,
   "id": "2bf9fda3",
   "metadata": {},
   "outputs": [
    {
     "data": {
      "text/plain": [
       "'yobro'"
      ]
     },
     "execution_count": 51,
     "metadata": {},
     "output_type": "execute_result"
    }
   ],
   "source": [
    "my_list.pop()"
   ]
  },
  {
   "cell_type": "code",
   "execution_count": 52,
   "id": "9f778a4c",
   "metadata": {},
   "outputs": [
    {
     "data": {
      "text/plain": [
       "['thelmahanus', 5, 6, 7, 6, 5, 4]"
      ]
     },
     "execution_count": 52,
     "metadata": {},
     "output_type": "execute_result"
    }
   ],
   "source": [
    "my_list"
   ]
  },
  {
   "cell_type": "code",
   "execution_count": 54,
   "id": "b308d492",
   "metadata": {},
   "outputs": [
    {
     "data": {
      "text/plain": [
       "6"
      ]
     },
     "execution_count": 54,
     "metadata": {},
     "output_type": "execute_result"
    }
   ],
   "source": [
    "my_list.pop(2)"
   ]
  },
  {
   "cell_type": "code",
   "execution_count": 55,
   "id": "1d5f5ba9",
   "metadata": {},
   "outputs": [
    {
     "data": {
      "text/plain": [
       "['thelmahanus', 5, 7, 6, 5, 4]"
      ]
     },
     "execution_count": 55,
     "metadata": {},
     "output_type": "execute_result"
    }
   ],
   "source": [
    "my_list"
   ]
  },
  {
   "cell_type": "code",
   "execution_count": 56,
   "id": "74191d5b",
   "metadata": {},
   "outputs": [
    {
     "name": "stdout",
     "output_type": "stream",
     "text": [
      "['thelmahanus', 5, 7, 6, 5, 4]\n",
      "['tamim', 'hasan', 'matubbar']\n",
      "['tamim', 6, 7, 33.4]\n"
     ]
    }
   ],
   "source": [
    "print(my_list)\n",
    "print(my_list_1)\n",
    "print(my_list_2)"
   ]
  },
  {
   "cell_type": "code",
   "execution_count": 61,
   "id": "6112a00c",
   "metadata": {},
   "outputs": [],
   "source": [
    "num_list = [1,2,4,3,5,6,4,3,2,3,4,5,2,8,9,4,3,1]"
   ]
  },
  {
   "cell_type": "code",
   "execution_count": 80,
   "id": "fe52f888",
   "metadata": {},
   "outputs": [],
   "source": [
    "# we can sort the list using the sort method"
   ]
  },
  {
   "cell_type": "code",
   "execution_count": 68,
   "id": "f40ec3f5",
   "metadata": {},
   "outputs": [],
   "source": [
    "num_list.sort()"
   ]
  },
  {
   "cell_type": "code",
   "execution_count": 72,
   "id": "167efe0b",
   "metadata": {},
   "outputs": [
    {
     "data": {
      "text/plain": [
       "[1, 1, 2, 2, 2, 3, 3, 3, 3, 4, 4, 4, 4, 5, 5, 6, 8, 9]"
      ]
     },
     "execution_count": 72,
     "metadata": {},
     "output_type": "execute_result"
    }
   ],
   "source": [
    "num_list"
   ]
  },
  {
   "cell_type": "code",
   "execution_count": 62,
   "id": "dfd1eb09",
   "metadata": {},
   "outputs": [],
   "source": [
    "my_list_1.sort()"
   ]
  },
  {
   "cell_type": "code",
   "execution_count": 73,
   "id": "a92ae0a9",
   "metadata": {},
   "outputs": [
    {
     "data": {
      "text/plain": [
       "['hasan', 'matubbar', 'tamim']"
      ]
     },
     "execution_count": 73,
     "metadata": {},
     "output_type": "execute_result"
    }
   ],
   "source": [
    "my_list_1"
   ]
  },
  {
   "cell_type": "code",
   "execution_count": 84,
   "id": "8ac0fba6",
   "metadata": {},
   "outputs": [],
   "source": [
    "# we can use the reverse method to reverse the output"
   ]
  },
  {
   "cell_type": "code",
   "execution_count": 81,
   "id": "b4ed3e3c",
   "metadata": {},
   "outputs": [
    {
     "name": "stdout",
     "output_type": "stream",
     "text": [
      "[1, 1, 2, 2, 2, 3, 3, 3, 3, 4, 4, 4, 4, 5, 5, 6, 8, 9]\n"
     ]
    }
   ],
   "source": [
    "print(num_list)"
   ]
  },
  {
   "cell_type": "code",
   "execution_count": 82,
   "id": "e4390a4e",
   "metadata": {},
   "outputs": [],
   "source": [
    "num_list.reverse()"
   ]
  },
  {
   "cell_type": "code",
   "execution_count": 83,
   "id": "99d9c607",
   "metadata": {
    "scrolled": true
   },
   "outputs": [
    {
     "data": {
      "text/plain": [
       "[9, 8, 6, 5, 5, 4, 4, 4, 4, 3, 3, 3, 3, 2, 2, 2, 1, 1]"
      ]
     },
     "execution_count": 83,
     "metadata": {},
     "output_type": "execute_result"
    }
   ],
   "source": [
    "num_list"
   ]
  },
  {
   "cell_type": "code",
   "execution_count": 106,
   "id": "12455d85",
   "metadata": {},
   "outputs": [],
   "source": [
    "# we can find out the index of any element in the list and count how many times an element appeared in the lsit"
   ]
  },
  {
   "cell_type": "code",
   "execution_count": 107,
   "id": "1dd573a9",
   "metadata": {},
   "outputs": [
    {
     "data": {
      "text/plain": [
       "2"
      ]
     },
     "execution_count": 107,
     "metadata": {},
     "output_type": "execute_result"
    }
   ],
   "source": [
    "num_list.index(6)"
   ]
  },
  {
   "cell_type": "code",
   "execution_count": 108,
   "id": "b159b30c",
   "metadata": {},
   "outputs": [
    {
     "data": {
      "text/plain": [
       "2"
      ]
     },
     "execution_count": 108,
     "metadata": {},
     "output_type": "execute_result"
    }
   ],
   "source": [
    "num_list.count(1)"
   ]
  },
  {
   "cell_type": "code",
   "execution_count": 85,
   "id": "a99148c4",
   "metadata": {},
   "outputs": [],
   "source": [
    "# dictionary"
   ]
  },
  {
   "cell_type": "code",
   "execution_count": 86,
   "id": "c9902a7f",
   "metadata": {},
   "outputs": [],
   "source": [
    "my_dict = {'key1':'value1', 'key2':'value2', 'key3':'value3'}"
   ]
  },
  {
   "cell_type": "code",
   "execution_count": 88,
   "id": "f9304fdc",
   "metadata": {},
   "outputs": [
    {
     "data": {
      "text/plain": [
       "'value2'"
      ]
     },
     "execution_count": 88,
     "metadata": {},
     "output_type": "execute_result"
    }
   ],
   "source": [
    "my_dict['key2']"
   ]
  },
  {
   "cell_type": "code",
   "execution_count": 89,
   "id": "99863d32",
   "metadata": {},
   "outputs": [],
   "source": [
    "# dictionary can contain list and even another dictionary inside the dictionary"
   ]
  },
  {
   "cell_type": "code",
   "execution_count": 90,
   "id": "84529230",
   "metadata": {},
   "outputs": [],
   "source": [
    " my_dict_1 = {'k1':'V1', 'k2':[1,2,3,4,5], 'k3':{'dd':'rr', 'tt':'yy'}}"
   ]
  },
  {
   "cell_type": "code",
   "execution_count": 91,
   "id": "0ffd914a",
   "metadata": {},
   "outputs": [
    {
     "data": {
      "text/plain": [
       "3"
      ]
     },
     "execution_count": 91,
     "metadata": {},
     "output_type": "execute_result"
    }
   ],
   "source": [
    "my_dict_1['k2'][2]"
   ]
  },
  {
   "cell_type": "code",
   "execution_count": 92,
   "id": "984c68f8",
   "metadata": {},
   "outputs": [
    {
     "data": {
      "text/plain": [
       "'yy'"
      ]
     },
     "execution_count": 92,
     "metadata": {},
     "output_type": "execute_result"
    }
   ],
   "source": [
    "my_dict_1['k3']['tt']"
   ]
  },
  {
   "cell_type": "code",
   "execution_count": 93,
   "id": "3a2933d1",
   "metadata": {},
   "outputs": [],
   "source": [
    "# like the lsit we can also replace any value on the dictionary by putting some new value"
   ]
  },
  {
   "cell_type": "code",
   "execution_count": 95,
   "id": "9e12f6fe",
   "metadata": {},
   "outputs": [
    {
     "data": {
      "text/plain": [
       "{'k1': 'V1', 'k2': [1, 2, 3, 4, 5], 'k3': {'dd': 'rr', 'tt': 'yy'}}"
      ]
     },
     "execution_count": 95,
     "metadata": {},
     "output_type": "execute_result"
    }
   ],
   "source": [
    "my_dict_1"
   ]
  },
  {
   "cell_type": "code",
   "execution_count": 96,
   "id": "0ebe3e71",
   "metadata": {},
   "outputs": [],
   "source": [
    "my_dict_1['k1']='tamim'"
   ]
  },
  {
   "cell_type": "code",
   "execution_count": 97,
   "id": "f000cff0",
   "metadata": {},
   "outputs": [
    {
     "data": {
      "text/plain": [
       "{'k1': 'tamim', 'k2': [1, 2, 3, 4, 5], 'k3': {'dd': 'rr', 'tt': 'yy'}}"
      ]
     },
     "execution_count": 97,
     "metadata": {},
     "output_type": "execute_result"
    }
   ],
   "source": [
    "my_dict_1"
   ]
  },
  {
   "cell_type": "code",
   "execution_count": 98,
   "id": "f858e330",
   "metadata": {},
   "outputs": [],
   "source": [
    "# some important methods for the dictionaries which might be valueable for the future"
   ]
  },
  {
   "cell_type": "code",
   "execution_count": 99,
   "id": "adc49e55",
   "metadata": {},
   "outputs": [
    {
     "data": {
      "text/plain": [
       "{'k1': 'tamim', 'k2': [1, 2, 3, 4, 5], 'k3': {'dd': 'rr', 'tt': 'yy'}}"
      ]
     },
     "execution_count": 99,
     "metadata": {},
     "output_type": "execute_result"
    }
   ],
   "source": [
    "my_dict_1"
   ]
  },
  {
   "cell_type": "code",
   "execution_count": 100,
   "id": "7c9f8e44",
   "metadata": {},
   "outputs": [
    {
     "data": {
      "text/plain": [
       "dict_keys(['k1', 'k2', 'k3'])"
      ]
     },
     "execution_count": 100,
     "metadata": {},
     "output_type": "execute_result"
    }
   ],
   "source": [
    "my_dict_1.keys()"
   ]
  },
  {
   "cell_type": "code",
   "execution_count": 101,
   "id": "f72b7281",
   "metadata": {},
   "outputs": [
    {
     "data": {
      "text/plain": [
       "dict_values(['tamim', [1, 2, 3, 4, 5], {'dd': 'rr', 'tt': 'yy'}])"
      ]
     },
     "execution_count": 101,
     "metadata": {},
     "output_type": "execute_result"
    }
   ],
   "source": [
    "my_dict_1.values()"
   ]
  },
  {
   "cell_type": "code",
   "execution_count": 102,
   "id": "91579a14",
   "metadata": {},
   "outputs": [
    {
     "data": {
      "text/plain": [
       "dict_items([('k1', 'tamim'), ('k2', [1, 2, 3, 4, 5]), ('k3', {'dd': 'rr', 'tt': 'yy'})])"
      ]
     },
     "execution_count": 102,
     "metadata": {},
     "output_type": "execute_result"
    }
   ],
   "source": [
    "my_dict_1.items()"
   ]
  },
  {
   "cell_type": "markdown",
   "id": "3c96ec3e",
   "metadata": {},
   "source": [
    "### Tuples - same as python list but immutable but we can use the index and count method for the tuple"
   ]
  },
  {
   "cell_type": "code",
   "execution_count": 109,
   "id": "d1eff249",
   "metadata": {},
   "outputs": [],
   "source": [
    "tup = (2,3,4,5)"
   ]
  },
  {
   "cell_type": "code",
   "execution_count": 113,
   "id": "29319ab4",
   "metadata": {},
   "outputs": [],
   "source": [
    "# Sets in Python \n",
    "# sets are unordered collected of some elements which means one element can be in the set one time only"
   ]
  },
  {
   "cell_type": "code",
   "execution_count": 114,
   "id": "34a292de",
   "metadata": {},
   "outputs": [],
   "source": [
    "myset = set()"
   ]
  },
  {
   "cell_type": "code",
   "execution_count": 115,
   "id": "34a2e687",
   "metadata": {},
   "outputs": [],
   "source": [
    "myset.add(1)"
   ]
  },
  {
   "cell_type": "code",
   "execution_count": 116,
   "id": "140d77a9",
   "metadata": {},
   "outputs": [
    {
     "data": {
      "text/plain": [
       "{1}"
      ]
     },
     "execution_count": 116,
     "metadata": {},
     "output_type": "execute_result"
    }
   ],
   "source": [
    "myset"
   ]
  },
  {
   "cell_type": "code",
   "execution_count": 117,
   "id": "64ad7b7a",
   "metadata": {},
   "outputs": [],
   "source": [
    "myset.add(2)"
   ]
  },
  {
   "cell_type": "code",
   "execution_count": 118,
   "id": "ddf13a2f",
   "metadata": {},
   "outputs": [
    {
     "data": {
      "text/plain": [
       "{1, 2}"
      ]
     },
     "execution_count": 118,
     "metadata": {},
     "output_type": "execute_result"
    }
   ],
   "source": [
    "myset"
   ]
  },
  {
   "cell_type": "code",
   "execution_count": 119,
   "id": "12cb4771",
   "metadata": {},
   "outputs": [],
   "source": [
    "myset.add(2)"
   ]
  },
  {
   "cell_type": "code",
   "execution_count": 120,
   "id": "3dd33660",
   "metadata": {},
   "outputs": [
    {
     "data": {
      "text/plain": [
       "{1, 2}"
      ]
     },
     "execution_count": 120,
     "metadata": {},
     "output_type": "execute_result"
    }
   ],
   "source": [
    "myset"
   ]
  },
  {
   "cell_type": "code",
   "execution_count": 121,
   "id": "1ea6eb64",
   "metadata": {},
   "outputs": [],
   "source": [
    "list =[1,1,1,1,1,1,2,2,2,23,4,5,6,7,8]"
   ]
  },
  {
   "cell_type": "code",
   "execution_count": 122,
   "id": "8ae9fc1b",
   "metadata": {},
   "outputs": [
    {
     "data": {
      "text/plain": [
       "{1, 2, 4, 5, 6, 7, 8, 23}"
      ]
     },
     "execution_count": 122,
     "metadata": {},
     "output_type": "execute_result"
    }
   ],
   "source": [
    "set(list)"
   ]
  },
  {
   "cell_type": "code",
   "execution_count": 124,
   "id": "9b304491",
   "metadata": {},
   "outputs": [
    {
     "data": {
      "text/plain": [
       "False"
      ]
     },
     "execution_count": 124,
     "metadata": {},
     "output_type": "execute_result"
    }
   ],
   "source": [
    "1==2"
   ]
  }
 ],
 "metadata": {
  "kernelspec": {
   "display_name": "Python 3 (ipykernel)",
   "language": "python",
   "name": "python3"
  },
  "language_info": {
   "codemirror_mode": {
    "name": "ipython",
    "version": 3
   },
   "file_extension": ".py",
   "mimetype": "text/x-python",
   "name": "python",
   "nbconvert_exporter": "python",
   "pygments_lexer": "ipython3",
   "version": "3.9.5"
  }
 },
 "nbformat": 4,
 "nbformat_minor": 5
}
